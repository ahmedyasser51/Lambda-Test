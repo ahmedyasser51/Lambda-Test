{
 "cells": [
  {
   "cell_type": "code",
   "execution_count": 1,
   "id": "7a65e8d2",
   "metadata": {},
   "outputs": [],
   "source": [
    "my_names = ['momen', 'ahmed','yosef','kamel' ]"
   ]
  },
  {
   "cell_type": "code",
   "execution_count": 2,
   "id": "dfb31a64",
   "metadata": {},
   "outputs": [
    {
     "data": {
      "text/plain": [
       "['MOMEN', 'AHMED', 'YOSEF', 'KAMEL']"
      ]
     },
     "execution_count": 2,
     "metadata": {},
     "output_type": "execute_result"
    }
   ],
   "source": [
    "def my_func(name): \n",
    "    result = name.upper()\n",
    "    return result\n",
    "\n",
    "list(map(my_func, my_names))\n"
   ]
  },
  {
   "cell_type": "code",
   "execution_count": 4,
   "id": "f5532191",
   "metadata": {},
   "outputs": [
    {
     "name": "stdout",
     "output_type": "stream",
     "text": [
      "Enter a number: 1\n",
      "1 is not prime\n"
     ]
    }
   ],
   "source": [
    "def is_prime(n):\n",
    "    if n < 2:\n",
    "        return False\n",
    "    for i in range(2, int(math.sqrt(n)) + 1):\n",
    "        if n % i == 0:\n",
    "            return False\n",
    "    return True\n",
    "\n",
    "def check_prime(number):\n",
    "    if is_prime(number):\n",
    "        print(f\"{number} is prime\")\n",
    "    else:\n",
    "        print(f\"{number} is not prime\")\n",
    "\n",
    "input_number = int(input(\"Enter a number: \"))\n",
    "check_prime(input_number)"
   ]
  },
  {
   "cell_type": "code",
   "execution_count": null,
   "id": "ac4ce433",
   "metadata": {},
   "outputs": [],
   "source": []
  }
 ],
 "metadata": {
  "kernelspec": {
   "display_name": "Python 3 (ipykernel)",
   "language": "python",
   "name": "python3"
  },
  "language_info": {
   "codemirror_mode": {
    "name": "ipython",
    "version": 3
   },
   "file_extension": ".py",
   "mimetype": "text/x-python",
   "name": "python",
   "nbconvert_exporter": "python",
   "pygments_lexer": "ipython3",
   "version": "3.11.4"
  }
 },
 "nbformat": 4,
 "nbformat_minor": 5
}
